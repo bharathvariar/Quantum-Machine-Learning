{
 "cells": [
  {
   "cell_type": "markdown",
   "id": "fe2c06d2",
   "metadata": {},
   "source": [
    "# Grover's Algorithm"
   ]
  },
  {
   "cell_type": "code",
   "execution_count": 4,
   "id": "c4300518",
   "metadata": {},
   "outputs": [],
   "source": [
    "from qiskit import *\n",
    "from qiskit.tools.visualization import plot_histogram\n",
    "import numpy as np\n",
    "%matplotlib inline"
   ]
  },
  {
   "cell_type": "code",
   "execution_count": 25,
   "id": "000d6c40",
   "metadata": {},
   "outputs": [
    {
     "name": "stdout",
     "output_type": "stream",
     "text": [
      "[ 5  4  4 10  4 10  6  5  7  7]\n"
     ]
    }
   ],
   "source": [
    "arr = np.random.randint(0, 11, size = 10)\n",
    "search_elem = 3 \n",
    "print (arr)"
   ]
  },
  {
   "cell_type": "code",
   "execution_count": null,
   "id": "8d72bb64",
   "metadata": {},
   "outputs": [],
   "source": [
    "circuit = QuantumCircuit()"
   ]
  },
  {
   "cell_type": "code",
   "execution_count": null,
   "id": "eaff551b",
   "metadata": {},
   "outputs": [],
   "source": []
  }
 ],
 "metadata": {
  "kernelspec": {
   "display_name": "Python 3 (ipykernel)",
   "language": "python",
   "name": "python3"
  },
  "language_info": {
   "codemirror_mode": {
    "name": "ipython",
    "version": 3
   },
   "file_extension": ".py",
   "mimetype": "text/x-python",
   "name": "python",
   "nbconvert_exporter": "python",
   "pygments_lexer": "ipython3",
   "version": "3.7.11"
  }
 },
 "nbformat": 4,
 "nbformat_minor": 5
}
