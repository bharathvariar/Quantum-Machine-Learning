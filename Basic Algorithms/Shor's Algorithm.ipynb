{
 "cells": [
  {
   "cell_type": "markdown",
   "id": "7bf98e44",
   "metadata": {},
   "source": [
    "# Shor's Algorithm"
   ]
  },
  {
   "cell_type": "markdown",
   "id": "937f6642",
   "metadata": {},
   "source": [
    "Problem Statement: Given a periodic function f, find it's period.<br>\n",
    "$$ f(x) = f(y), x \\neq y \\text{ iff } |x-y| = kp$$\n",
    "Here $p$ is the period. <br>\n",
    "We need a lot of data points for finding period."
   ]
  },
  {
   "cell_type": "markdown",
   "id": "a6952b28",
   "metadata": {},
   "source": [
    "### Classical Computers\n",
    "Worst Case $\\in O\\left(exp\\left(n^{\\frac{1}{3}}(logn)^{\\frac{2}{3}}\\right)\\right)$\n",
    "### Quantum Computers\n",
    "Worst Case $\\in O\\left(n^3 . log(n) . log\\left(log(n)\\right)\\right)$"
   ]
  },
  {
   "cell_type": "code",
   "execution_count": 1,
   "id": "27eb445c",
   "metadata": {},
   "outputs": [],
   "source": [
    "import matplotlib.pyplot as plt\n",
    "import numpy as np\n",
    "from qiskit import QuantumCircuit, Aer, transpile, assemble\n",
    "from qiskit.visualization import plot_histogram\n",
    "from math import gcd, floor\n",
    "from numpy.random import randint\n",
    "import pandas as pd\n",
    "from fractions import Fraction"
   ]
  },
  {
   "cell_type": "code",
   "execution_count": 2,
   "id": "4d30438c",
   "metadata": {},
   "outputs": [],
   "source": [
    "def control_mod15(a, power):\n",
    "    if a not in [2, 4, 7, 8, 11, 13]:\n",
    "        raise ValueError(\"'a' must be in [2, 4, 7, 8, 11, 13]\")\n",
    "    U = QuantumCircuit(4)\n",
    "    for i in range(power):\n",
    "        if a in [2, 13]:\n",
    "            U.swap(2, 3)\n",
    "            U.swap(1, 2)\n",
    "            U.swap(0, 1)\n",
    "        if a in [7, 8]:\n",
    "            U.swap(0, 1)\n",
    "            U.swap(1, 2)\n",
    "            U.swap(2, 3)\n",
    "        if a in [4, 11]:\n",
    "            U.swap(1, 3)\n",
    "            U.swap(0, 2)\n",
    "        if a in [7, 11, 13]:\n",
    "            for qubit in range(4):\n",
    "                U.x(qubit)\n",
    "    U = U.to_gate()\n",
    "    U.name = \"%i^%i mod 15\" % (a, power)\n",
    "    c_U = U.control()\n",
    "    return c_U\n",
    "\n",
    "# shor's algorithm for 49"
   ]
  },
  {
   "cell_type": "code",
   "execution_count": 3,
   "id": "baf86295",
   "metadata": {},
   "outputs": [],
   "source": [
    "def modulo(x, N):\n",
    "    '''\n",
    "    solve: x = r(mod N)\n",
    "    return: r \n",
    "    '''\n",
    "    return x - N*(x//N)\n",
    "#     return x - floor(x/N)*N"
   ]
  },
  {
   "cell_type": "code",
   "execution_count": 48,
   "id": "efd2ebbc",
   "metadata": {},
   "outputs": [
    {
     "name": "stdout",
     "output_type": "stream",
     "text": [
      "[9.647972922817449e+28, 7.740922820742142e+31, 476837158203125.0, 9.647972922817449e+28, 194754273881.0, 52523350144.0, 52523350144.0, 4.398046511104e+33, 4.398046511104e+33, 194754273881.0, 52523350144.0, 476837158203125.0, 4.398046511104e+33, 7.740922820742142e+31, 9.647972922817449e+28, 5.181318712754446e+29, 62748517.0, 10460353203.0, 9.647972922817449e+28, 7.740922820742142e+31, 4.60051199093697e+22, 7, 4.398046511104e+33, 5.181318712754446e+29, 1.3003342946222977e+35, 52523350144.0, 6859.0, 279936.0, 7, 48.0, 52523350144.0, 5.217503983092897e+34, 10460353203.0, 1e+21, 9.647972922817449e+28, 62748517.0, 5.181318712754446e+29, 62748517.0, 1280000000.0, 9.647972922817449e+28, 29791.0, 4.398046511104e+33, 476837158203125.0, 6.909193391300873e+25, 6859.0, 4.398046511104e+33, 62748517.0, 1280000000.0, 1e+21]\n"
     ]
    },
    {
     "data": {
      "text/plain": [
       "RangeIndex(start=0, stop=1, step=1)"
      ]
     },
     "execution_count": 48,
     "metadata": {},
     "output_type": "execute_result"
    }
   ],
   "source": [
    "# finding factor\n",
    "def find_factor(N):\n",
    "    while (True):\n",
    "        x = np.random.randint(2, N)\n",
    "#         print (f\"x = {x}\")\n",
    "        gcd_xN = gcd(x, N)\n",
    "        if (gcd_xN == x):\n",
    "            factor = x\n",
    "            return factor\n",
    "        elif (gcd_xN != 1):\n",
    "            factor = gcd(gcd_xN, N)\n",
    "            continue\n",
    "        else:\n",
    "            modulo_list = []\n",
    "            period = 0\n",
    "            for i in range(0, N):\n",
    "                modulo_list.append(modulo(x**i, N))\n",
    "#                 plt.plot(modulo_list)\n",
    "                if (modulo_list[i] == 1 and i != 0):\n",
    "                    period = i\n",
    "#                     print (f\"Period = {i}\")\n",
    "                    break\n",
    "            if (period %2 == 0):\n",
    "                # r is even now \n",
    "                mod = modulo(x**(period/2), N)\n",
    "                mod2 = modulo(x**period, N)\n",
    "                if (mod2 == 1):\n",
    "                # (x^(r/2))^2 = 1 (mod N)\n",
    "                    if (mod != 1 and mod != -1):\n",
    "                        # x^(r/2) != +- 1 (mod N)\n",
    "                        factor = x\n",
    "                        break \n",
    "#     # check if (x^(r/2))^2 = 1 (mod N)\n",
    "#     print (f\"{factor}^r (mod {N}): {modulo(x**(period), N)}\")\n",
    "    \n",
    "    return factor**(period/2)        \n",
    "\n",
    "# def check_factor(factor):\n",
    "arr = []\n",
    "for i in range(49):\n",
    "    arr.append(find_factor(49))\n",
    "print(arr)\n",
    "arr = pd.DataFrame(arr)\n",
    "arr.columns"
   ]
  },
  {
   "cell_type": "code",
   "execution_count": null,
   "id": "741d5b9b",
   "metadata": {},
   "outputs": [],
   "source": [
    "\n"
   ]
  },
  {
   "cell_type": "code",
   "execution_count": null,
   "id": "d5bcd170",
   "metadata": {},
   "outputs": [],
   "source": []
  },
  {
   "cell_type": "code",
   "execution_count": null,
   "id": "bfe7c209",
   "metadata": {},
   "outputs": [],
   "source": []
  },
  {
   "cell_type": "code",
   "execution_count": null,
   "id": "ffa7f2ee",
   "metadata": {},
   "outputs": [],
   "source": []
  }
 ],
 "metadata": {
  "kernelspec": {
   "display_name": "Python 3 (ipykernel)",
   "language": "python",
   "name": "python3"
  },
  "language_info": {
   "codemirror_mode": {
    "name": "ipython",
    "version": 3
   },
   "file_extension": ".py",
   "mimetype": "text/x-python",
   "name": "python",
   "nbconvert_exporter": "python",
   "pygments_lexer": "ipython3",
   "version": "3.7.11"
  }
 },
 "nbformat": 4,
 "nbformat_minor": 5
}
